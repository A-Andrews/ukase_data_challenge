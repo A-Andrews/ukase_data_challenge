{
 "cells": [
  {
   "cell_type": "code",
   "execution_count": 5,
   "metadata": {},
   "outputs": [],
   "source": [
    "import pandas as pd"
   ]
  },
  {
   "cell_type": "code",
   "execution_count": 6,
   "metadata": {},
   "outputs": [],
   "source": [
    "test = pd.read_csv('../data/zoonosis_dataset_test.csv')\n",
    "train = pd.read_csv('../data/zoonosis_dataset_train_eval.csv')"
   ]
  },
  {
   "cell_type": "code",
   "execution_count": null,
   "metadata": {},
   "outputs": [],
   "source": [
    "print(train)"
   ]
  },
  {
   "cell_type": "code",
   "execution_count": null,
   "metadata": {},
   "outputs": [],
   "source": [
    "from sklearn.feature_selection import SelectFromModel\n",
    "selection = SelectFromModel(gbm, threshold=0.03, prefit=True)\n",
    "selected_dataset = selection.transform(X_test)"
   ]
  },
  {
   "cell_type": "code",
   "execution_count": null,
   "metadata": {},
   "outputs": [],
   "source": [
    "import xgboost as xgb\n",
    "    gbm = xgb.XGBClassifier(max_depth=3, n_estimators=300, learning_rate=0.05).fit(X_train,y_train)\n",
    "    predictions = gbm.predict(X_test)"
   ]
  },
  {
   "cell_type": "code",
   "execution_count": 18,
   "metadata": {},
   "outputs": [],
   "source": [
    "import numpy as np\n",
    "from sklearn.impute import SimpleImputer\n",
    "import time\n",
    "import matplotlib as plt\n"
   ]
  },
  {
   "cell_type": "code",
   "execution_count": 9,
   "metadata": {},
   "outputs": [],
   "source": [
    "X = np.array(train.drop(['cluster_rep', 'label'], axis=1))\n",
    "y = train['label']"
   ]
  },
  {
   "cell_type": "code",
   "execution_count": 11,
   "metadata": {},
   "outputs": [],
   "source": [
    "imp = SimpleImputer(missing_values=-2, strategy='mean')\n",
    "X_norm = imp.fit_transform(X)"
   ]
  },
  {
   "cell_type": "code",
   "execution_count": 14,
   "metadata": {},
   "outputs": [
    {
     "name": "stdout",
     "output_type": "stream",
     "text": [
      "PCA time: 0.07300209999084473 seconds\n",
      "(2004, 2)\n",
      "[[113.10263691 -21.58492728]\n",
      " [113.57343195 -21.18049665]\n",
      " [115.0999805  -22.24658196]\n",
      " ...\n",
      " [ 12.85451713  45.50507874]\n",
      " [ 13.83514959  45.67104873]\n",
      " [ 13.93479461  43.86934123]]\n",
      "(2004, 2)\n",
      "[[113.10263691 -21.58492728]\n",
      " [113.57343195 -21.18049665]\n",
      " [115.0999805  -22.24658196]\n",
      " ...\n",
      " [ 12.85451713  45.50507874]\n",
      " [ 13.83514959  45.67104873]\n",
      " [ 13.93479461  43.86934123]]\n"
     ]
    }
   ],
   "source": [
    "# https://scikit-learn.org/stable/modules/generated/sklearn.decomposition.PCA.html\n",
    "from sklearn.decomposition import PCA\n",
    "time_start = time.time()\n",
    "n_components = 2  # number of coordinates\n",
    "# your code here (store the components in X_reduced)\n",
    "pca = PCA(n_components = n_components)\n",
    "pca.fit(X_norm)\n",
    "X_reduced = pca.transform(X_norm)\n",
    "print('PCA time: {} seconds'.format(time.time()-time_start))\n",
    "print(X_reduced.shape)\n",
    "print(X_reduced)\n",
    "\n",
    "\n",
    "# example code\n",
    "pca = PCA(n_components=n_components)\n",
    "X_reduced1=pca.fit_transform(X_norm)\n",
    "print(X_reduced1.shape)\n",
    "print(X_reduced1)"
   ]
  },
  {
   "cell_type": "code",
   "execution_count": 21,
   "metadata": {},
   "outputs": [],
   "source": [
    "# 2D plotting PCA\n",
    "import seaborn as sns\n",
    "from mpl_toolkits.mplot3d import Axes3D\n",
    "%matplotlib inline\n",
    "%config InlineBackend.figure_format = 'retina'\n",
    "no_of_labels = 2\n",
    "\n",
    "\n",
    "def plot_reduced_dims(X_reduced, y, no_of_labels, method):\n",
    "    # you can write above function as just one statement instead of multiple if-elif\n",
    "    # restructure the data\n",
    "    df = pd.DataFrame(X_reduced)\n",
    "    df['categories'] = np.reshape(y, [y.shape[0], 1])\n",
    "    plt.figure(figsize=(12, 8))\n",
    "\n",
    "    if method == 'PCA':\n",
    "        df['pca-one'] = X_reduced[:, 0]\n",
    "        df['pca-two'] = X_reduced[:, 1]\n",
    "        sns.scatterplot(\n",
    "            x='pca-one', y='pca-two',\n",
    "            hue='categories',\n",
    "            palette=sns.color_palette('hls', no_of_labels),\n",
    "            data=df.loc[:, :],\n",
    "            legend='full',\n",
    "            alpha=1)\n",
    "    # code here for KPCA plots\n",
    "    elif method == 'KernelPCA':\n",
    "        df['KPCA-one'] = X_reduced[:, 0]\n",
    "        df['KPCA-two'] = X_reduced[:, 1]\n",
    "        sns.scatterplot(\n",
    "            x='KPCA-one', y='KPCA-two',\n",
    "            hue='categories',\n",
    "            palette=sns.color_palette('hls', no_of_labels),\n",
    "            data=df.loc[:, :],\n",
    "            legend='full',\n",
    "            alpha=1)\n",
    "    elif method == 'tsne':\n",
    "        df['tsne-one'] = X_reduced[:, 0]\n",
    "        df['tsne-two'] = X_reduced[:, 1]\n",
    "        sns.scatterplot(\n",
    "            x='tsne-one', y='tsne-two',\n",
    "            hue='categories',\n",
    "            palette=sns.color_palette('hls', no_of_labels),\n",
    "            data=df.loc[:, :],\n",
    "            legend='full',\n",
    "            alpha=1)\n",
    "    elif method == 'svd':\n",
    "        df['svd-one'] = X_reduced[:, 0]\n",
    "        df['svd-two'] = X_reduced[:, 1]\n",
    "        sns.scatterplot(\n",
    "            x='svd-one', y='svd-two',\n",
    "            hue='categories',\n",
    "            palette=sns.color_palette('hls', no_of_labels),\n",
    "            data=df.loc[:, :],\n",
    "            legend='full',\n",
    "            alpha=1)\n",
    "    elif method == 'mds':\n",
    "        df['mds-one'] = X_reduced[:, 0]\n",
    "        df['mds-two'] = X_reduced[:, 1]\n",
    "        sns.scatterplot(\n",
    "            x='mds-one', y='mds-two',\n",
    "            hue='categories',\n",
    "            palette=sns.color_palette('hls', no_of_labels),\n",
    "            data=df.loc[:, :],\n",
    "            legend='full',\n",
    "            alpha=1)\n",
    "    elif method == 'isomap':\n",
    "        df['isomap-one'] = X_reduced[:, 0]\n",
    "        df['isomap-two'] = X_reduced[:, 1]\n",
    "        sns.scatterplot(\n",
    "            x='isomap-one', y='isomap-two',\n",
    "            hue='categories',\n",
    "            palette=sns.color_palette('hls', no_of_labels),\n",
    "            data=df.loc[:, :],\n",
    "            legend='full',\n",
    "            alpha=1)\n",
    "\n",
    "    plt.legend(loc='upper right', ncol=6)  # horizontal legend upper right\n",
    "    plt.show()\n"
   ]
  },
  {
   "cell_type": "code",
   "execution_count": 16,
   "metadata": {},
   "outputs": [
    {
     "name": "stderr",
     "output_type": "stream",
     "text": [
      "/var/folders/xy/wvlsxjjn1px0ql5dll2npm300000gs/T/ipykernel_63960/1165430992.py:1: FutureWarning: Downcasting behavior in `replace` is deprecated and will be removed in a future version. To retain the old behavior, explicitly call `result.infer_objects(copy=False)`. To opt-in to the future behavior, set `pd.set_option('future.no_silent_downcasting', True)`\n",
      "  y_en = y.replace({'nz': 0, 'hzoon': 1})\n"
     ]
    }
   ],
   "source": [
    "y_en = y.replace({'nz': 0, 'hzoon': 1})\n",
    "y_en = np.array(y_en)"
   ]
  },
  {
   "cell_type": "code",
   "execution_count": 22,
   "metadata": {},
   "outputs": [
    {
     "ename": "TypeError",
     "evalue": "'module' object is not callable",
     "output_type": "error",
     "traceback": [
      "\u001b[31m---------------------------------------------------------------------------\u001b[39m",
      "\u001b[31mTypeError\u001b[39m                                 Traceback (most recent call last)",
      "\u001b[36mCell\u001b[39m\u001b[36m \u001b[39m\u001b[32mIn[22]\u001b[39m\u001b[32m, line 1\u001b[39m\n\u001b[32m----> \u001b[39m\u001b[32m1\u001b[39m \u001b[43mplot_reduced_dims\u001b[49m\u001b[43m(\u001b[49m\u001b[43mX_reduced\u001b[49m\u001b[43m,\u001b[49m\u001b[43m \u001b[49m\u001b[43my_en\u001b[49m\u001b[43m,\u001b[49m\u001b[43m \u001b[49m\u001b[32;43m2\u001b[39;49m\u001b[43m,\u001b[49m\u001b[43m \u001b[49m\u001b[33;43m'\u001b[39;49m\u001b[33;43mPCA\u001b[39;49m\u001b[33;43m'\u001b[39;49m\u001b[43m)\u001b[49m\n",
      "\u001b[36mCell\u001b[39m\u001b[36m \u001b[39m\u001b[32mIn[21]\u001b[39m\u001b[32m, line 14\u001b[39m, in \u001b[36mplot_reduced_dims\u001b[39m\u001b[34m(X_reduced, y, no_of_labels, method)\u001b[39m\n\u001b[32m     12\u001b[39m df = pd.DataFrame(X_reduced)\n\u001b[32m     13\u001b[39m df[\u001b[33m'\u001b[39m\u001b[33mcategories\u001b[39m\u001b[33m'\u001b[39m] = np.reshape(y, [y.shape[\u001b[32m0\u001b[39m], \u001b[32m1\u001b[39m])\n\u001b[32m---> \u001b[39m\u001b[32m14\u001b[39m \u001b[43mplt\u001b[49m\u001b[43m.\u001b[49m\u001b[43mfigure\u001b[49m\u001b[43m(\u001b[49m\u001b[43mfigsize\u001b[49m\u001b[43m=\u001b[49m\u001b[43m(\u001b[49m\u001b[32;43m12\u001b[39;49m\u001b[43m,\u001b[49m\u001b[43m \u001b[49m\u001b[32;43m8\u001b[39;49m\u001b[43m)\u001b[49m\u001b[43m)\u001b[49m\n\u001b[32m     16\u001b[39m \u001b[38;5;28;01mif\u001b[39;00m method == \u001b[33m'\u001b[39m\u001b[33mPCA\u001b[39m\u001b[33m'\u001b[39m:\n\u001b[32m     17\u001b[39m     df[\u001b[33m'\u001b[39m\u001b[33mpca-one\u001b[39m\u001b[33m'\u001b[39m] = X_reduced[:, \u001b[32m0\u001b[39m]\n",
      "\u001b[31mTypeError\u001b[39m: 'module' object is not callable"
     ]
    }
   ],
   "source": [
    "plot_reduced_dims(X_reduced, y_en, 2, 'PCA')\n"
   ]
  }
 ],
 "metadata": {
  "kernelspec": {
   "display_name": ".venv",
   "language": "python",
   "name": "python3"
  },
  "language_info": {
   "codemirror_mode": {
    "name": "ipython",
    "version": 3
   },
   "file_extension": ".py",
   "mimetype": "text/x-python",
   "name": "python",
   "nbconvert_exporter": "python",
   "pygments_lexer": "ipython3",
   "version": "3.12.6"
  }
 },
 "nbformat": 4,
 "nbformat_minor": 2
}
