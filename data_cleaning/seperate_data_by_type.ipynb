{
 "cells": [
  {
   "cell_type": "code",
   "execution_count": null,
   "metadata": {},
   "outputs": [],
   "source": [
    "import pandas as pd\n",
    "from os import path"
   ]
  },
  {
   "cell_type": "code",
   "execution_count": null,
   "metadata": {},
   "outputs": [],
   "source": [
    "data_file = path.join(\"..\", \"cleaned_data\", \"full_data_with_species_and_locations.csv\")\n",
    "column_name = \"SpeciesBins\"\n",
    "column_name = \"Location\""
   ]
  },
  {
   "cell_type": "code",
   "execution_count": null,
   "metadata": {},
   "outputs": [],
   "source": [
    "def split_dataframe_by_column(df, column):\n",
    "    \"\"\"\n",
    "    Splits the dataframe row-wise based on unique values in the specified column.\n",
    "\n",
    "    Args:\n",
    "        df (pd.DataFrame): The input dataframe.\n",
    "        column (str): The column name to split the dataframe on.\n",
    "\n",
    "    Returns:\n",
    "        dict: A dictionary with unique values as keys and corresponding dataframes as values.\n",
    "    \"\"\"\n",
    "    return {value: group.copy() for value, group in df.groupby(column)}"
   ]
  },
  {
   "cell_type": "code",
   "execution_count": null,
   "metadata": {},
   "outputs": [],
   "source": [
    "dataframes = split_dataframe_by_column(pd.read_csv(data_file), column_name)\n",
    "for key, value in dataframes.items():\n",
    "    if value[\"label\"].count(\"hzoon\") > 5:\n",
    "        value.to_csv(path.join(\"..\", \"split_data\", f\"{key}.csv\"), index=False)"
   ]
  }
 ],
 "metadata": {
  "kernelspec": {
   "display_name": ".venv",
   "language": "python",
   "name": "python3"
  },
  "language_info": {
   "name": "python",
   "version": "3.13.1"
  }
 },
 "nbformat": 4,
 "nbformat_minor": 2
}
