{
 "cells": [
  {
   "cell_type": "code",
   "execution_count": 4,
   "metadata": {},
   "outputs": [],
   "source": [
    "import pandas as pd\n",
    "import numpy as np\n",
    "from os import path"
   ]
  },
  {
   "cell_type": "code",
   "execution_count": 8,
   "metadata": {},
   "outputs": [],
   "source": [
    "data_file = \"zoonosis_dataset_full.csv\"\n",
    "columns_to_inlclude = [\"label\", \"ATTCC_HA\", \"PAAC_Xc1.E_HA\", \"DPC_MV_M1\", \"CTDD_polarizability.2.residue75_M1\", \"CTDT_charge.Tr1331_M1\", \"CTriad_g4.g1.g6_M1\", \"GTACA_NA\", \"CTDC_secondarystruct.G3_NP\", \"CTDT_secondarystruct.Tr1221_NS1\", \"CTDD_polarity.2.residue50_PB2\"]"
   ]
  },
  {
   "cell_type": "code",
   "execution_count": 9,
   "metadata": {},
   "outputs": [],
   "source": [
    "data = pd.read_csv(path.join(\"..\", \"data\", data_file))"
   ]
  },
  {
   "cell_type": "code",
   "execution_count": 10,
   "metadata": {},
   "outputs": [],
   "source": [
    "data = data[columns_to_inlclude]"
   ]
  },
  {
   "cell_type": "code",
   "execution_count": 11,
   "metadata": {},
   "outputs": [],
   "source": [
    "data.to_csv(path.join(\"..\", \"cleaned_data\", f\"selected_columns_{len(columns_to_inlclude)}_\" + data_file), index=False)"
   ]
  }
 ],
 "metadata": {
  "kernelspec": {
   "display_name": ".venv",
   "language": "python",
   "name": "python3"
  },
  "language_info": {
   "codemirror_mode": {
    "name": "ipython",
    "version": 3
   },
   "file_extension": ".py",
   "mimetype": "text/x-python",
   "name": "python",
   "nbconvert_exporter": "python",
   "pygments_lexer": "ipython3",
   "version": "3.13.1"
  }
 },
 "nbformat": 4,
 "nbformat_minor": 2
}
