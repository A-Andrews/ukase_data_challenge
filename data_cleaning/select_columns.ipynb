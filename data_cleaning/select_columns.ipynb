{
 "cells": [
  {
   "cell_type": "code",
   "execution_count": 17,
   "metadata": {},
   "outputs": [],
   "source": [
    "import pandas as pd\n",
    "import numpy as np\n",
    "from os import path"
   ]
  },
  {
   "cell_type": "code",
   "execution_count": null,
   "metadata": {},
   "outputs": [],
   "source": []
  },
  {
   "cell_type": "code",
   "execution_count": 18,
   "metadata": {},
   "outputs": [],
   "source": [
    "data_file = \"zoonosis_dataset_full.csv\"\n",
    "# columns_to_inlclude = [\"label\", \"ATTCC_HA\", \"PAAC_Xc1.E_HA\", \"DPC_MV_M1\", \"CTDD_polarizability.2.residue75_M1\", \"CTDT_charge.Tr1331_M1\", \"CTriad_g4.g1.g6_M1\", \"GTACA_NA\", \"CTDC_secondarystruct.G3_NP\", \"CTDT_secondarystruct.Tr1221_NS1\", \"CTDD_polarity.2.residue50_PB2\"]\n",
    "# columns_to_inlclude = [\n",
    "#     \"label\",\n",
    "#     \"DPC_FS_HA\",\n",
    "#     \"CTDC_secondarystruct.G1_HA\",\n",
    "#     \"DPC_MV_M1\",\n",
    "#     \"CTDD_hydrophobicity_PONP930101.3.residue50_M1\",\n",
    "#     \"CTDD_hydrophobicity_CASG920101.3.residue50_M1\",\n",
    "#     \"CTriad_g4.g1.g6_M1\",\n",
    "#     \"PAAC_Xc1.E_M1\",\n",
    "#     \"DPC_GS_NP\",\n",
    "#     \"CTDD_normwaalsvolume.3.residue50_NP\",\n",
    "#     \"CTDT_normwaalsvolume.Tr1331_NP\",\n",
    "#     \"CTDC_hydrophobicity_CASG920101.G2_PA\",\n",
    "#     \"CTDD_hydrophobicity_ZIMJ680101.2.residue50_PA\",\n",
    "#     \"DPC_AS_PB2\",\n",
    "# ]\n",
    "columns_to_inlclude = [\n",
    "    \"label\",\n",
    "    \"ATTCC_HA\",\n",
    "    \"DPC_NK_HA\",\n",
    "    \"CTDC_polarizability.G3_HA\",\n",
    "    \"CTDT_hydrophobicity_ENGD860101.Tr2332_HA\",\n",
    "    \"PAAC_Xc1.E_HA\",\n",
    "    \"TA_M1\",\n",
    "    \"CCTG_NA\",\n",
    "    \"GTACA_NA\",\n",
    "    \"PAAC_Xc1.Y_NA\",\n",
    "    \"TAA_Bias_NP\",\n",
    "    \"DPC_RV_NP\",\n",
    "    \"PAAC_Xc1.N_NP\",\n",
    "    \"TG_NS1\",\n",
    "    \"CTDT_secondarystruct.Tr1221_NS1\",\n",
    "]"
   ]
  },
  {
   "cell_type": "code",
   "execution_count": 19,
   "metadata": {},
   "outputs": [],
   "source": [
    "data = pd.read_csv(path.join(\"..\", \"data\", data_file))"
   ]
  },
  {
   "cell_type": "code",
   "execution_count": 20,
   "metadata": {},
   "outputs": [],
   "source": [
    "data = data[columns_to_inlclude]"
   ]
  },
  {
   "cell_type": "code",
   "execution_count": 21,
   "metadata": {},
   "outputs": [],
   "source": [
    "data.to_csv(path.join(\"..\", \"cleaned_data\", f\"selected_columns_{len(columns_to_inlclude)}_\" + data_file), index=False)"
   ]
  }
 ],
 "metadata": {
  "kernelspec": {
   "display_name": ".venv",
   "language": "python",
   "name": "python3"
  },
  "language_info": {
   "codemirror_mode": {
    "name": "ipython",
    "version": 3
   },
   "file_extension": ".py",
   "mimetype": "text/x-python",
   "name": "python",
   "nbconvert_exporter": "python",
   "pygments_lexer": "ipython3",
   "version": "3.13.1"
  }
 },
 "nbformat": 4,
 "nbformat_minor": 2
}
