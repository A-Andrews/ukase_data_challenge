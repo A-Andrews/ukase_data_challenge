{
 "cells": [
  {
   "cell_type": "code",
   "execution_count": 1,
   "metadata": {},
   "outputs": [],
   "source": [
    "import pandas as pd\n",
    "from os import path\n",
    "import datetime"
   ]
  },
  {
   "cell_type": "code",
   "execution_count": 4,
   "metadata": {},
   "outputs": [],
   "source": [
    "file_path = path.join(\"..\", \"cleaned_data\", \"full_data_with_species_and_locations.csv\")\n",
    "year_column = \"date\"\n",
    "cutoff_year = datetime.datetime(2015, 1, 1).year"
   ]
  },
  {
   "cell_type": "code",
   "execution_count": 5,
   "metadata": {},
   "outputs": [],
   "source": [
    "def split_by_year(df, year_column, cutoff_year):\n",
    "    df[year_column] = pd.to_datetime(df[year_column]).dt.year\n",
    "    before_df = df[df[year_column] < cutoff_year].copy()\n",
    "    after_df = df[df[year_column] >= cutoff_year].copy()\n",
    "    return before_df, after_df"
   ]
  },
  {
   "cell_type": "code",
   "execution_count": 6,
   "metadata": {},
   "outputs": [],
   "source": [
    "before_df, after_df = split_by_year(pd.read_csv(file_path), year_column, cutoff_year)\n",
    "before_df.to_csv(path.join(\"..\", \"split_data\", \"full_data_with_species_and_locations_before_2015.csv\"), index=False)\n",
    "after_df.to_csv(path.join(\"..\", \"split_data\", \"full_data_with_species_and_locations_after_2015.csv\"), index=False)"
   ]
  }
 ],
 "metadata": {
  "kernelspec": {
   "display_name": ".venv",
   "language": "python",
   "name": "python3"
  },
  "language_info": {
   "codemirror_mode": {
    "name": "ipython",
    "version": 3
   },
   "file_extension": ".py",
   "mimetype": "text/x-python",
   "name": "python",
   "nbconvert_exporter": "python",
   "pygments_lexer": "ipython3",
   "version": "3.13.1"
  }
 },
 "nbformat": 4,
 "nbformat_minor": 2
}
