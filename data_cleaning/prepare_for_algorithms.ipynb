{
 "cells": [
  {
   "cell_type": "code",
   "execution_count": 18,
   "metadata": {},
   "outputs": [],
   "source": [
    "import pandas as pd\n",
    "from sklearn.preprocessing import StandardScaler\n",
    "from os import path\n",
    "import numpy as np"
   ]
  },
  {
   "cell_type": "code",
   "execution_count": 19,
   "metadata": {},
   "outputs": [],
   "source": [
    "target_column = \"label\"\n",
    "one_hot_encode = True\n",
    "data_file = \"selected_columns_44_zoonosis_dataset_full_full.csv\""
   ]
  },
  {
   "cell_type": "code",
   "execution_count": 20,
   "metadata": {},
   "outputs": [],
   "source": [
    "def prepare_dataframe_for_ml(df, target_column=None, one_hot_encode=True):\n",
    "    \"\"\"\n",
    "    Prepare a pandas DataFrame for machine learning algorithms.\n",
    "    - Normalizes numerical features\n",
    "    - Optionally one-hot encodes categorical features\n",
    "    - Optionally separates target variable\n",
    "    \n",
    "    Parameters:\n",
    "    -----------\n",
    "    df : pandas.DataFrame\n",
    "        The input DataFrame to prepare\n",
    "    target_column : str, optional\n",
    "        Name of the target column to separate\n",
    "    one_hot_encode : bool, optional\n",
    "        Whether to one-hot encode categorical features\n",
    "    \n",
    "    Returns:\n",
    "    --------\n",
    "    df_processed: pandas.DataFrame\n",
    "        The processed DataFrame\n",
    "    \"\"\"\n",
    "\n",
    "    # Create a copy of the dataframe to avoid modifying the original\n",
    "    df_processed = df.copy()\n",
    "\n",
    "    # Separate target if specified\n",
    "    y = None\n",
    "    if target_column and target_column in df_processed.columns:\n",
    "        y = df_processed[target_column].replace({\"nz\": 0, \"hzoon\": 1})\n",
    "        df_processed = df_processed.drop(columns=[target_column])\n",
    "\n",
    "    # Identify numerical and categorical columns\n",
    "    numerical_cols = df_processed.select_dtypes(include=['int64', 'float64']).columns.tolist()\n",
    "    categorical_cols = df_processed.select_dtypes(include=['object', 'category', 'bool']).columns.tolist()\n",
    "\n",
    "    # Handle missing values\n",
    "    df_processed[numerical_cols] = df_processed[numerical_cols].fillna(df_processed[numerical_cols].median())\n",
    "    for col in categorical_cols:\n",
    "        df_processed[col] = df_processed[col].fillna(df_processed[col].mode()[0])\n",
    "\n",
    "    # Normalize numerical features\n",
    "    if numerical_cols:\n",
    "        scaler = StandardScaler()\n",
    "        df_processed[numerical_cols] = scaler.fit_transform(df_processed[numerical_cols])\n",
    "\n",
    "    # One-hot encode categorical features\n",
    "    if categorical_cols and one_hot_encode:\n",
    "        df_processed = pd.get_dummies(df_processed, columns=categorical_cols, drop_first=False)\n",
    "\n",
    "    # If we have a target column, add it back to the processed dataframe\n",
    "    if target_column and y is not None:\n",
    "        df_processed[target_column] = y\n",
    "\n",
    "    return df_processed"
   ]
  },
  {
   "cell_type": "code",
   "execution_count": 21,
   "metadata": {},
   "outputs": [
    {
     "data": {
      "text/plain": [
       "Index(['label', 'AC_NA', 'DPC_AS_PB2', 'CTriad_g1.g1.g5_PB2',\n",
       "       'CTDD_charge.3.residue75_PB2', 'CTDC_hydrophobicity_ARGP820101.G1_PB2',\n",
       "       'PAAC_Xc1.Y_NA', 'TT_PA', 'CTriad_g1.g5.g1_PB2',\n",
       "       'CTDD_hydrophobicity_PONP930101.2.residue50_HA',\n",
       "       'CTDD_hydrophobicity_ZIMJ680101.1.residue50_M1',\n",
       "       'CTDD_hydrophobicity_PONP930101.1.residue50_HA',\n",
       "       'CTDT_secondarystruct.Tr1331_HA', 'CTriad_g4.g1.g1_HA',\n",
       "       'CTDT_hydrophobicity_ENGD860101.Tr2332_HA', 'AT_PA',\n",
       "       'CTDT_secondarystruct.Tr1221_NS1', 'PAAC_Xc1.P_M1',\n",
       "       'CTDC_solventaccess.G1_HA', 'CTDT_hydrophobicity_ZIMJ680101.Tr2332_PB2',\n",
       "       'CTDT_polarizability.Tr2332_PB2',\n",
       "       'CTDT_hydrophobicity_ZIMJ680101.Tr1221_PB2',\n",
       "       'CTDD_polarizability.1.residue50_PB2', 'CC_HA',\n",
       "       'CTDD_hydrophobicity_ARGP820101.1.residue75_PB2',\n",
       "       'CTDD_hydrophobicity_ARGP820101.2.residue50_PA',\n",
       "       'CTDD_hydrophobicity_PONP930101.1.residue75_HA',\n",
       "       'CTDD_hydrophobicity_ENGD860101.3.residue75_PB2', 'CT_PB1',\n",
       "       'CTDD_normwaalsvolume.3.residue75_PB2',\n",
       "       'CTDC_hydrophobicity_ENGD860101.G2_HA',\n",
       "       'CTDT_hydrophobicity_FASG890101.Tr1331_HA',\n",
       "       'CTDT_hydrophobicity_FASG890101.Tr1221_PB2', 'CTriad_g3.g3.g5_PB2',\n",
       "       'CTDT_hydrophobicity_ARGP820101.Tr1331_HA', 'DPC_GR_PB2', 'DPC_RT_PB2',\n",
       "       'CTriad_g2.g6.g4_PB2', 'CTriad_g4.g5.g3_PB1',\n",
       "       'CTDD_polarity.1.residue75_PB2', 'CTDT_charge.Tr2332_PB2',\n",
       "       'CTDD_normwaalsvolume.3.residue25_NP',\n",
       "       'CTDC_hydrophobicity_PONP930101.G2_HA',\n",
       "       'CTDD_secondarystruct.3.residue0_HA'],\n",
       "      dtype='object')"
      ]
     },
     "execution_count": 21,
     "metadata": {},
     "output_type": "execute_result"
    }
   ],
   "source": [
    "data = pd.read_csv(path.join(\"..\", \"cleaned_data\", data_file))\n",
    "data.columns"
   ]
  },
  {
   "cell_type": "code",
   "execution_count": 22,
   "metadata": {},
   "outputs": [],
   "source": [
    "# data = data.drop(\n",
    "#     columns=[\"Unnamed: 0\", \"Species\", \"gid\", \"title\", \"date\", \"subtype\", \"src\"]\n",
    "# )"
   ]
  },
  {
   "cell_type": "code",
   "execution_count": 23,
   "metadata": {},
   "outputs": [
    {
     "name": "stderr",
     "output_type": "stream",
     "text": [
      "/var/folders/sx/g9qrr1y94z1gtsqjsbkjw2m40000gs/T/ipykernel_41931/3237007222.py:29: FutureWarning: Downcasting behavior in `replace` is deprecated and will be removed in a future version. To retain the old behavior, explicitly call `result.infer_objects(copy=False)`. To opt-in to the future behavior, set `pd.set_option('future.no_silent_downcasting', True)`\n",
      "  y = df_processed[target_column].replace({\"nz\": 0, \"hzoon\": 1})\n"
     ]
    }
   ],
   "source": [
    "processed_data = prepare_dataframe_for_ml(data, target_column=target_column, one_hot_encode=one_hot_encode)\n",
    "processed_data.to_csv(path.join(\"..\", \"cleaned_data\", f\"processed_ohe_{one_hot_encode}_{data_file}\"), index=False)"
   ]
  }
 ],
 "metadata": {
  "kernelspec": {
   "display_name": ".venv",
   "language": "python",
   "name": "python3"
  },
  "language_info": {
   "codemirror_mode": {
    "name": "ipython",
    "version": 3
   },
   "file_extension": ".py",
   "mimetype": "text/x-python",
   "name": "python",
   "nbconvert_exporter": "python",
   "pygments_lexer": "ipython3",
   "version": "3.13.1"
  }
 },
 "nbformat": 4,
 "nbformat_minor": 2
}
