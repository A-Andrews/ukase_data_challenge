{
 "cells": [
  {
   "cell_type": "code",
   "execution_count": null,
   "metadata": {},
   "outputs": [],
   "source": [
    "import pandas as pd\n",
    "import numpy as np\n",
    "from os import path\n",
    "from sklearn.linear_model import RidgeClassifier\n",
    "from sklearn.neighbors import KNeighborsClassifier\n",
    "from sklearn.naive_bayes import GaussianNB\n",
    "from sklearn.neural_network import MLPClassifier\n",
    "from sklearn.svm import SVC\n",
    "from sklearn.tree import DecisionTreeClassifier\n",
    "from sklearn.gaussian_process.kernels import RBF\n",
    "from lightgbm import LGBMClassifier\n",
    "from xgboost import XGBClassifier\n",
    "from sklearn.discriminant_analysis import QuadraticDiscriminantAnalysis\n",
    "from sklearn.ensemble import RandomForestClassifier\n",
    "from sklearn.metrics import mean_squared_log_error\n",
    "from sklearn.model_selection import train_test_split\n",
    "from sklearn.base import accuracy_score\n",
    "from sklearn.metrics import (\n",
    "    average_precision_score,\n",
    "    f1_score,\n",
    "    precision_score,\n",
    "    recall_score,\n",
    "    roc_auc_score,\n",
    ")\n",
    "from sklearn.inspection import permutation_importance\n",
    "import matplotlib.pyplot as plt"
   ]
  },
  {
   "cell_type": "code",
   "execution_count": null,
   "metadata": {},
   "outputs": [],
   "source": [
    "data_file = \"\"\n",
    "one_hot_encoded = True in data_file"
   ]
  },
  {
   "cell_type": "code",
   "execution_count": null,
   "metadata": {},
   "outputs": [],
   "source": [
    "df = pd.read_csv(path.join(\"..\", \"cleaned_data\", data_file))\n",
    "y = df[\"label\"]\n",
    "X = df.drop(columns=[\"label\"])\n",
    "X_train, X_test, y_train, y_test = train_test_split(\n",
    "    X, y, test_size=0.2, random_state=42\n",
    ")"
   ]
  },
  {
   "cell_type": "code",
   "execution_count": null,
   "metadata": {},
   "outputs": [],
   "source": [
    "def rmsle(y_true, y_pred):\n",
    "    return np.sqrt(mean_squared_log_error(np.expm1(y_true), np.expm1(y_pred)))"
   ]
  },
  {
   "cell_type": "code",
   "execution_count": null,
   "metadata": {},
   "outputs": [],
   "source": [
    "models = [\n",
    "    (\"XGBoost\", XGBClassifier(enable_categorical=True)),\n",
    "    (\"Random Forest\", RandomForestClassifier()),\n",
    "    (\"Ridge Classifier\", RidgeClassifier()),\n",
    "    (\"Decision Tree\", DecisionTreeClassifier()),\n",
    "    (\"Support Vector Regression\", SVC()),\n",
    "    (\"LightGBM\", LGBMClassifier()),\n",
    "    (\"KNN\", KNeighborsClassifier(5, weights=\"uniform\")),\n",
    "    (\"Naive Bayes\", GaussianNB()),\n",
    "    (\"Neural Network\", MLPClassifier()),\n",
    "    (\"Quadratic Discriminant Analysis\", QuadraticDiscriminantAnalysis()),\n",
    "]"
   ]
  },
  {
   "cell_type": "code",
   "execution_count": null,
   "metadata": {},
   "outputs": [],
   "source": [
    "min_error = float(\"inf\")\n",
    "\n",
    "for name, model in models:\n",
    "    model.fit(X_train, y_train)\n",
    "    y_pred = model.predict(X_test)\n",
    "    rmsle_score = rmsle(y_test, y_pred)\n",
    "\n",
    "    if rmsle_score < min_error:\n",
    "        min_error = rmsle_score\n",
    "        best_model = (name, model)\n",
    "\n",
    "    print(f\"{name}: RMSLE = {rmsle_score}\")\n",
    "print(best_model[0])"
   ]
  },
  {
   "cell_type": "markdown",
   "metadata": {},
   "source": [
    "## Plot Model Performance"
   ]
  },
  {
   "cell_type": "code",
   "execution_count": null,
   "metadata": {},
   "outputs": [],
   "source": [
    "def get_results_all_models(models):\n",
    "    results = {}\n",
    "    print(y_test.value_counts())\n",
    "    for name, model in models:\n",
    "        model.fit(X_train, y_train)\n",
    "        y_pred = model.predict(X_test)\n",
    "        accuracy = accuracy_score(y_test, y_pred)\n",
    "        roc_auc = roc_auc_score(y_test, y_pred)\n",
    "        precision = precision_score(y_test, y_pred)\n",
    "        recall = recall_score(y_test, y_pred)\n",
    "        f1 = f1_score(y_test, y_pred)\n",
    "        average_precision = average_precision_score(y_test, y_pred)\n",
    "        results[name] = {\n",
    "            \"accuracy\": accuracy,\n",
    "            \"roc_auc\": roc_auc,\n",
    "            \"precision\": precision,\n",
    "            \"recall\": recall,\n",
    "            \"f1\": f1,\n",
    "            \"average_precision\": average_precision,\n",
    "        }\n",
    "        print(\n",
    "            f\"{name}:\\n\\tSanity = {pd.DataFrame(y_pred)[0].value_counts()[0]};\\n\\tAccuracy = {accuracy};\\n\\tROC AUC = {roc_auc};\\n\\tPrecision = {precision};\\n\\tRecall = {recall};\\n\\tF1 = {f1};\\n\\tAverage Precision = {average_precision}\"\n",
    "        )\n",
    "    return results"
   ]
  },
  {
   "cell_type": "code",
   "execution_count": null,
   "metadata": {},
   "outputs": [],
   "source": [
    "def plot_model_results(results):\n",
    "\n",
    "    names = []\n",
    "    accuracies = []\n",
    "    roc_auc_curves = []\n",
    "    precisions = []\n",
    "    recalls = []\n",
    "    f1s = []\n",
    "    average_precisions = []\n",
    "    for name, result in results.items():\n",
    "        names.append(name)\n",
    "        accuracies.append(result[\"accuracy\"])\n",
    "        roc_auc_curves.append(result[\"roc_auc\"])\n",
    "        precisions.append(result[\"precision\"])\n",
    "        recalls.append(result[\"recall\"])\n",
    "        f1s.append(result[\"f1\"])\n",
    "        average_precisions.append(result[\"average_precision\"])\n",
    "\n",
    "    X_axis = np.arange(len(names))\n",
    "\n",
    "    plt.bar(X_axis - 0.3, accuracies, 0.1, label=\"Accuracies\")\n",
    "    plt.bar(X_axis - 0.2, roc_auc_curves, 0.1, label=\"ROC AUC\")\n",
    "    plt.bar(X_axis - 0.1, precisions, 0.1, label=\"Precision\")\n",
    "    plt.bar(X_axis + 0.0, recalls, 0.1, label=\"Recall\")\n",
    "    plt.bar(X_axis + 0.1, f1s, 0.1, label=\"F1\")\n",
    "    plt.bar(X_axis + 0.2, average_precisions, 0.1, label=\"Avg Precision\")\n",
    "\n",
    "    plt.xticks(X_axis, names, rotation=90)\n",
    "    plt.xlabel(\"Models\")\n",
    "    plt.ylabel(\"Score\")\n",
    "    plt.title(\"Metrics of Different Models\")\n",
    "    plt.legend()\n",
    "    plt.show()"
   ]
  },
  {
   "cell_type": "markdown",
   "metadata": {},
   "source": [
    "## Feature importance of best performing algorthims"
   ]
  },
  {
   "cell_type": "code",
   "execution_count": null,
   "metadata": {},
   "outputs": [],
   "source": [
    "def plot_feature_importance(model, X):\n",
    "\n",
    "    mdi_importances = pd.Series(\n",
    "        model.feature_importances_, index=X.columns\n",
    "    ).sort_values(ascending=True)\n",
    "    ax = mdi_importances.plot.barh()\n",
    "    ax.set_title(\"Decision Tree Feature Importances (MDI)\")\n",
    "    ax.figure.tight_layout()"
   ]
  },
  {
   "cell_type": "code",
   "execution_count": null,
   "metadata": {},
   "outputs": [],
   "source": [
    "def plot_permutation_importance(model, X, y):\n",
    "    result = permutation_importance(\n",
    "        model, X, y, n_repeats=10, random_state=42, n_jobs=2\n",
    "    )\n",
    "\n",
    "    sorted_importances_idx = result.importances_mean.argsort()\n",
    "    importances = pd.DataFrame(\n",
    "        result.importances[sorted_importances_idx].T,\n",
    "        columns=X.columns[sorted_importances_idx],\n",
    "    )\n",
    "    ax = importances.plot.box(vert=False, whis=10)\n",
    "    ax.set_title(\"Permutation Importances\")\n",
    "    ax.axvline(x=0, color=\"k\", linestyle=\"--\")\n",
    "    ax.set_xlabel(\"Decrease in accuracy score\")\n",
    "    ax.figure.tight_layout()"
   ]
  }
 ],
 "metadata": {
  "kernelspec": {
   "display_name": ".venv",
   "language": "python",
   "name": "python3"
  },
  "language_info": {
   "name": "python",
   "version": "3.13.1"
  }
 },
 "nbformat": 4,
 "nbformat_minor": 2
}
